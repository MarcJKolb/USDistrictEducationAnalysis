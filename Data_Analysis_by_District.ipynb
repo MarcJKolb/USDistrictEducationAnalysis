{
  "cells": [
    {
      "cell_type": "markdown",
      "metadata": {
        "colab_type": "text",
        "id": "view-in-github"
      },
      "source": [
        "<a href=\"https://colab.research.google.com/github/MarcJKolb/USDistrictEducationAnalysis/blob/main/Data_Analysis_by_District.ipynb\" target=\"_parent\"><img src=\"https://colab.research.google.com/assets/colab-badge.svg\" alt=\"Open In Colab\"/></a>"
      ]
    },
    {
      "cell_type": "code",
      "execution_count": 49,
      "metadata": {
        "id": "ocJsm08xJYru"
      },
      "outputs": [],
      "source": [
        "import pandas as pd\n",
        "import numpy as np\n"
      ]
    },
    {
      "cell_type": "code",
      "execution_count": 50,
      "metadata": {},
      "outputs": [],
      "source": [
        "us_state_to_abbrev = {\n",
        "\"Alabama\": \"AL\",\n",
        "\"Alaska\": \"AK\",\n",
        "\"Arizona\": \"AZ\",\n",
        "\"Arkansas\": \"AR\",\n",
        "\"California\": \"CA\",\n",
        "\"Colorado\": \"CO\",\n",
        "\"Connecticut\": \"CT\",\n",
        "\"Delaware\": \"DE\",\n",
        "\"Florida\": \"FL\",\n",
        "\"Georgia\": \"GA\",\n",
        "\"Hawaii\": \"HI\",\n",
        "\"Idaho\": \"ID\",\n",
        "\"Illinois\": \"IL\",\n",
        "\"Indiana\": \"IN\",\n",
        "\"Iowa\": \"IA\",\n",
        "\"Kansas\": \"KS\",\n",
        "\"Kentucky\": \"KY\",\n",
        "\"Louisiana\": \"LA\",\n",
        "\"Maine\": \"ME\",\n",
        "\"Maryland\": \"MD\",\n",
        "\"Massachusetts\": \"MA\",\n",
        "\"Michigan\": \"MI\",\n",
        "\"Minnesota\": \"MN\",\n",
        "\"Mississippi\": \"MS\",\n",
        "\"Missouri\": \"MO\",\n",
        "\"Montana\": \"MT\",\n",
        "\"Nebraska\": \"NE\",\n",
        "\"Nevada\": \"NV\",\n",
        "\"New Hampshire\": \"NH\",\n",
        "\"New Jersey\": \"NJ\",\n",
        "\"New Mexico\": \"NM\",\n",
        "\"New York\": \"NY\",\n",
        "\"North Carolina\": \"NC\",\n",
        "\"North Dakota\": \"ND\",\n",
        "\"Ohio\": \"OH\",\n",
        "\"Oklahoma\": \"OK\",\n",
        "\"Oregon\": \"OR\",\n",
        "\"Pennsylvania\": \"PA\",\n",
        "\"Rhode Island\": \"RI\",\n",
        "\"South Carolina\": \"SC\",\n",
        "\"South Dakota\": \"SD\",\n",
        "\"Tennessee\": \"TN\",\n",
        "\"Texas\": \"TX\",\n",
        "\"Utah\": \"UT\",\n",
        "\"Vermont\": \"VT\",\n",
        "\"Virginia\": \"VA\",\n",
        "\"Washington\": \"WA\",\n",
        "\"West Virginia\": \"WV\",\n",
        "\"Wisconsin\": \"WI\",\n",
        "\"Wyoming\": \"WY\",\n",
        "\"District of Columbia\": \"DC\",\n",
        "\"American Samoa\": \"AS\",\n",
        "\"Guam\": \"GU\",\n",
        "\"Northern Mariana Islands\": \"MP\",\n",
        "\"Puerto Rico\": \"PR\",\n",
        "\"United States Minor Outlying Islands\": \"UM\",\n",
        "\"U.S. Virgin Islands\": \"VI\",\n",
        "}"
      ]
    },
    {
      "cell_type": "markdown",
      "metadata": {
        "id": "fJd3zTasq_sm"
      },
      "source": [
        "## The following data is sourced from the US Department of Education.\n",
        "\n",
        "Documentation is available:\n",
        "\n",
        "https://www2.ed.gov/about/inits/ed/edfacts/data-files/assessments-sy2018-19-public-file-documentation.docx"
      ]
    },
    {
      "cell_type": "code",
      "execution_count": 57,
      "metadata": {
        "id": "wgQZaE_gq7Bt"
      },
      "outputs": [
        {
          "ename": "SyntaxError",
          "evalue": "invalid syntax (819469379.py, line 3)",
          "output_type": "error",
          "traceback": [
            "\u001b[1;36m  Input \u001b[1;32mIn [57]\u001b[1;36m\u001b[0m\n\u001b[1;33m    for 'District' not in math_achieve['LEANM']:\u001b[0m\n\u001b[1;37m                                               ^\u001b[0m\n\u001b[1;31mSyntaxError\u001b[0m\u001b[1;31m:\u001b[0m invalid syntax\n"
          ]
        }
      ],
      "source": [
        "math_achieve = pd.read_csv(\"Data/math_achieve.csv\")\n",
        "math_achieve['STNAM'] = math_achieve['STNAM'].str.capitalize().map(us_state_to_abbrev)\n",
        "math_achieve.set_index(['STNAM', 'LEANM'], inplace=True)\n",
        "read_achieve = pd.read_csv(\"Data/read_achieve.csv\")\n",
        "read_achieve['STNAM'] = read_achieve['STNAM'].str.capitalize().map(us_state_to_abbrev)\n",
        "read_achieve.set_index(['STNAM', 'LEANM'], inplace=True)\n",
        "grad_rate = pd.read_csv(\"Data/grad_rate.csv\")\n",
        "grad_rate['STNAM'] = grad_rate['STNAM'].str.capitalize().map(us_state_to_abbrev)\n",
        "grad_rate.set_index(['STNAM', 'LEANM'], inplace=True)\n",
        "math_part = pd.read_csv(\"Data/math_part.csv\")\n",
        "math_part['STNAM'] = math_part['STNAM'].str.capitalize().map(us_state_to_abbrev)\n",
        "math_part.set_index(['STNAM', 'LEANM'], inplace=True)\n",
        "read_part = pd.read_csv(\"Data/read_part.csv\")\n",
        "read_part['STNAM'] = read_part['STNAM'].str.capitalize().map(us_state_to_abbrev)\n",
        "read_part.set_index(['STNAM', 'LEANM'], inplace=True)"
      ]
    },
    {
      "cell_type": "markdown",
      "metadata": {},
      "source": [
        "## Cleaning the Data for Relevant Features"
      ]
    },
    {
      "cell_type": "code",
      "execution_count": 52,
      "metadata": {},
      "outputs": [],
      "source": [
        "## math_achieve\n",
        "math_achieve = math_achieve[['ALL_MTH00numvalid_1819', 'ALL_MTH00pctprof_1819', 'ECD_MTH00numvalid_1819', 'ECD_MTH00pctprof_1819']]\n",
        "math_achieve.columns = ['Math Sum Total', 'Math Sum Pct Prof', 'Math ECD Total', 'Math ECD Pct Prof']\n",
        "math_achieve['Math Sum Total'] = pd.to_numeric((math_achieve['Math Sum Total']), errors='coerce')\n",
        "math_achieve['Math ECD Total'] = pd.to_numeric((math_achieve['Math ECD Total']), errors='coerce')\n",
        "math_achieve['Math Pct ECD'] = math_achieve['Math ECD Total'] / math_achieve['Math Sum Total'] * 100\n",
        "math_achieve['Math Pct ECD'] = math_achieve['Math Pct ECD'].round(0)"
      ]
    },
    {
      "cell_type": "code",
      "execution_count": 53,
      "metadata": {},
      "outputs": [],
      "source": [
        "## read_achieve\n",
        "read_achieve = read_achieve[['ALL_RLA00numvalid_1819', 'ALL_RLA00pctprof_1819', 'ECD_RLA00numvalid_1819', 'ECD_RLA00pctprof_1819']]\n",
        "read_achieve.columns = ['Read Sum Total', 'Read Sum Pct Prof', 'Read ECD Total', 'Read ECD Pct Prof']\n",
        "read_achieve['Read Sum Total'] = pd.to_numeric((read_achieve['Read Sum Total']), errors='coerce')\n",
        "read_achieve['Read ECD Total'] = pd.to_numeric((read_achieve['Read ECD Total']), errors='coerce')\n",
        "read_achieve['Read Pct ECD'] = read_achieve['Read ECD Total'] / read_achieve['Read Sum Total'] * 100\n",
        "read_achieve['Read Pct ECD'] = read_achieve['Read Pct ECD'].round(0)"
      ]
    },
    {
      "cell_type": "code",
      "execution_count": 54,
      "metadata": {},
      "outputs": [],
      "source": [
        "## combining achieve data\n",
        "achievement = pd.merge(math_achieve, read_achieve, how='outer', on=['STNAM', 'LEANM'])"
      ]
    },
    {
      "cell_type": "markdown",
      "metadata": {},
      "source": [
        "## Combining Dataframes into a Singular Dataframe"
      ]
    },
    {
      "cell_type": "code",
      "execution_count": 55,
      "metadata": {},
      "outputs": [
        {
          "data": {
            "text/plain": [
              "'\\nachievement = pd.merge(math_achieve, math_part, how=\\'outer\\', on=[\\'STNAM\\', \\'LEANM\\'])\\nachievement = pd.merge(achievement, read_achieve, how=\\'outer\\', on=[\\'STNAM\\', \\'LEANM\\'])\\nachievement = pd.merge(achievement, read_part, how=\\'outer\\', on=[\\'STNAM\\', \\'LEANM\\'])\\nachievement = pd.merge(achievement, grad_rate, how=\\'outer\\', on=[\\'STNAM\\', \\'LEANM\\'])\\nachievement.to_csv(\"Data/achievement.csv\")\\nachievement.info\\n'"
            ]
          },
          "execution_count": 55,
          "metadata": {},
          "output_type": "execute_result"
        }
      ],
      "source": [
        "'''\n",
        "achievement = pd.merge(math_achieve, math_part, how='outer', on=['STNAM', 'LEANM'])\n",
        "achievement = pd.merge(achievement, read_achieve, how='outer', on=['STNAM', 'LEANM'])\n",
        "achievement = pd.merge(achievement, read_part, how='outer', on=['STNAM', 'LEANM'])\n",
        "achievement = pd.merge(achievement, grad_rate, how='outer', on=['STNAM', 'LEANM'])\n",
        "achievement.to_csv(\"Data/achievement.csv\")\n",
        "achievement.info\n",
        "'''"
      ]
    },
    {
      "cell_type": "markdown",
      "metadata": {
        "id": "-AP1Cq5jrUOb"
      },
      "source": [
        "## SAIPE School District Estimates for 2020\n",
        "\n",
        "Documentation is available:\n",
        "\n",
        "https://www2.census.gov/programs-surveys/saipe/technical-documentation/file-layouts/school-district/2020-district-layout.txt"
      ]
    },
    {
      "cell_type": "code",
      "execution_count": 56,
      "metadata": {
        "id": "zFCTNJlor1Iz"
      },
      "outputs": [
        {
          "data": {
            "text/html": [
              "<div>\n",
              "<style scoped>\n",
              "    .dataframe tbody tr th:only-of-type {\n",
              "        vertical-align: middle;\n",
              "    }\n",
              "\n",
              "    .dataframe tbody tr th {\n",
              "        vertical-align: top;\n",
              "    }\n",
              "\n",
              "    .dataframe thead th {\n",
              "        text-align: right;\n",
              "    }\n",
              "</style>\n",
              "<table border=\"1\" class=\"dataframe\">\n",
              "  <thead>\n",
              "    <tr style=\"text-align: right;\">\n",
              "      <th></th>\n",
              "      <th></th>\n",
              "      <th>TotPop</th>\n",
              "      <th>KidPop</th>\n",
              "      <th>ChildPov</th>\n",
              "    </tr>\n",
              "    <tr>\n",
              "      <th>STNAM</th>\n",
              "      <th>LEANM</th>\n",
              "      <th></th>\n",
              "      <th></th>\n",
              "      <th></th>\n",
              "    </tr>\n",
              "  </thead>\n",
              "  <tbody>\n",
              "    <tr>\n",
              "      <th rowspan=\"5\" valign=\"top\">AL</th>\n",
              "      <th>Alabaster City School District</th>\n",
              "      <td>35,268</td>\n",
              "      <td>6,797</td>\n",
              "      <td>669</td>\n",
              "    </tr>\n",
              "    <tr>\n",
              "      <th>Albertville City School District</th>\n",
              "      <td>22,120</td>\n",
              "      <td>4,163</td>\n",
              "      <td>918</td>\n",
              "    </tr>\n",
              "    <tr>\n",
              "      <th>Alexander City City School District</th>\n",
              "      <td>16,819</td>\n",
              "      <td>2,579</td>\n",
              "      <td>700</td>\n",
              "    </tr>\n",
              "    <tr>\n",
              "      <th>Andalusia City School District</th>\n",
              "      <td>8,818</td>\n",
              "      <td>1,471</td>\n",
              "      <td>346</td>\n",
              "    </tr>\n",
              "    <tr>\n",
              "      <th>Anniston City School District</th>\n",
              "      <td>22,017</td>\n",
              "      <td>3,053</td>\n",
              "      <td>735</td>\n",
              "    </tr>\n",
              "  </tbody>\n",
              "</table>\n",
              "</div>"
            ],
            "text/plain": [
              "                                           TotPop KidPop ChildPov\n",
              "STNAM LEANM                                                      \n",
              "AL    Alabaster City School District       35,268  6,797      669\n",
              "      Albertville City School District     22,120  4,163      918\n",
              "      Alexander City City School District  16,819  2,579      700\n",
              "      Andalusia City School District        8,818  1,471      346\n",
              "      Anniston City School District        22,017  3,053      735"
            ]
          },
          "execution_count": 56,
          "metadata": {},
          "output_type": "execute_result"
        }
      ],
      "source": [
        "poverty_df = pd.read_csv(\"Data/poverty.csv\")\n",
        "poverty_df.columns = ['STNAM', 'FIPS', 'DID', 'LEANM', 'TotPop', 'KidPop', 'ChildPov']\n",
        "poverty_df.set_index(['STNAM', 'LEANM'], inplace=True)\n",
        "poverty_df = poverty_df[['TotPop', 'KidPop', 'ChildPov']]\n",
        "poverty_df.head()\n",
        "#achievement = pd.merge(achievement, poverty_df, how='outer', on=['STNAM', 'LEANM'])\n",
        "#achievement.to_csv(\"Data/achievement.csv\")"
      ]
    }
  ],
  "metadata": {
    "colab": {
      "authorship_tag": "ABX9TyPQVCIfPRQ+VBVGeLKL5yKm",
      "collapsed_sections": [],
      "include_colab_link": true,
      "name": "Data Analysis by District.ipynb",
      "provenance": []
    },
    "kernelspec": {
      "display_name": "Python 3.9.12 ('base')",
      "language": "python",
      "name": "python3"
    },
    "language_info": {
      "codemirror_mode": {
        "name": "ipython",
        "version": 3
      },
      "file_extension": ".py",
      "mimetype": "text/x-python",
      "name": "python",
      "nbconvert_exporter": "python",
      "pygments_lexer": "ipython3",
      "version": "3.9.12"
    },
    "vscode": {
      "interpreter": {
        "hash": "52905d967f39656c7299d11033468600bf709a64d51740f5ce4cbb6611f102ea"
      }
    }
  },
  "nbformat": 4,
  "nbformat_minor": 0
}

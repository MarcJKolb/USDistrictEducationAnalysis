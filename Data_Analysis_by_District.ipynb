{
  "cells": [
    {
      "cell_type": "markdown",
      "metadata": {
        "colab_type": "text",
        "id": "view-in-github"
      },
      "source": [
        "<a href=\"https://colab.research.google.com/github/MarcJKolb/USDistrictEducationAnalysis/blob/main/Data_Analysis_by_District.ipynb\" target=\"_parent\"><img src=\"https://colab.research.google.com/assets/colab-badge.svg\" alt=\"Open In Colab\"/></a>"
      ]
    },
    {
      "cell_type": "code",
      "execution_count": 141,
      "metadata": {
        "id": "ocJsm08xJYru"
      },
      "outputs": [],
      "source": [
        "import pandas as pd\n",
        "import numpy as np\n"
      ]
    },
    {
      "cell_type": "markdown",
      "metadata": {
        "id": "fJd3zTasq_sm"
      },
      "source": [
        "## The following data is sourced from the US Department of Education.\n",
        "\n",
        "Documentation is available:\n",
        "\n",
        "https://www2.ed.gov/about/inits/ed/edfacts/data-files/assessments-sy2018-19-public-file-documentation.docx"
      ]
    },
    {
      "cell_type": "code",
      "execution_count": 142,
      "metadata": {
        "id": "wgQZaE_gq7Bt"
      },
      "outputs": [
        {
          "name": "stderr",
          "output_type": "stream",
          "text": [
            "c:\\Users\\marcj\\AppData\\Local\\Programs\\PythonCodingPack\\lib\\site-packages\\IPython\\core\\interactiveshell.py:3145: DtypeWarning: Columns (18,20,22,24,26,34,36,38,40,42,44,46,50,52,54,108,110,112,122,126,128,130,136,138,140,144,148,150,152,154,156,158,170,182,214,216,234,236,238,240,242,244,248,250,254,258,260) have mixed types.Specify dtype option on import or set low_memory=False.\n",
            "  has_raised = await self.run_ast_nodes(code_ast.body, cell_name,\n",
            "c:\\Users\\marcj\\AppData\\Local\\Programs\\PythonCodingPack\\lib\\site-packages\\IPython\\core\\interactiveshell.py:3145: DtypeWarning: Columns (18,20,22,26,36,38,40,42,44,46,50,52,54,98,108,112,114,122,124,126,128,130,136,138,140,144,150,152,154,156,158,162,170,180,182,184,192,194,236,240,248,250,254,256,258,260) have mixed types.Specify dtype option on import or set low_memory=False.\n",
            "  has_raised = await self.run_ast_nodes(code_ast.body, cell_name,\n",
            "c:\\Users\\marcj\\AppData\\Local\\Programs\\PythonCodingPack\\lib\\site-packages\\IPython\\core\\interactiveshell.py:3145: DtypeWarning: Columns (8,10,12,14,16,18,20,22,24,26,28,30,32,34,36,38,40,42,44,46,48,50,52,54,56,58,60,62,64,66,68,70,72,74,76,78,80,82,84,86,88,90,92,94,96,98,100,102,104,106,108,110,112,114,116,118,120,122,124,126,128,130,132,134,136,138,140,142,144,146,148,150,152,154,156,158,160,162,164,166,168,170,172,174,176,178,180,182,184,186,188,190,192,194,196,198,200,202,204,206,208,210,212,214,216,218,220,222,224,226,228,230,232,234,236,238,240,242,244,246,248,250,252,254,256,258,260) have mixed types.Specify dtype option on import or set low_memory=False.\n",
            "  has_raised = await self.run_ast_nodes(code_ast.body, cell_name,\n"
          ]
        }
      ],
      "source": [
        "math_achieve = pd.read_csv(\"Data/math_achieve.csv\", index_col=['STNAM', 'LEANM'])\n",
        "read_achieve = pd.read_csv(\"Data/read_achieve.csv\", index_col=['STNAM', 'LEANM'])\n",
        "grad_rate = pd.read_csv(\"Data/grad_rate.csv\", index_col=['STNAM', 'LEANM'])\n",
        "math_part = pd.read_csv(\"Data/math_part.csv\", index_col=['STNAM', 'LEANM'])\n",
        "read_part = pd.read_csv(\"Data/read_part.csv\", index_col=['STNAM', 'LEANM'])"
      ]
    },
    {
      "cell_type": "markdown",
      "metadata": {},
      "source": [
        "## Cleaning the Data for Relevant Features"
      ]
    },
    {
      "cell_type": "code",
      "execution_count": 143,
      "metadata": {},
      "outputs": [],
      "source": [
        "## math_achieve\n",
        "math_achieve = math_achieve[['ALL_MTH00numvalid_1819', 'ALL_MTH00pctprof_1819', 'ECD_MTH00numvalid_1819', 'ECD_MTH00pctprof_1819']]\n",
        "math_achieve.columns = ['Math Sum Total', 'Math Sum Pct Prof', 'Math ECD Total', 'Math ECD Pct Prof']\n",
        "math_achieve['Math Sum Total'] = pd.to_numeric((math_achieve['Math Sum Total']), errors='coerce')\n",
        "math_achieve['Math ECD Total'] = pd.to_numeric((math_achieve['Math ECD Total']), errors='coerce')\n",
        "math_achieve['Math Pct ECD'] = math_achieve['Math ECD Total'] / math_achieve['Math Sum Total'] * 100\n",
        "math_achieve['Math Pct ECD'] = math_achieve['Math Pct ECD'].round(0)"
      ]
    },
    {
      "cell_type": "code",
      "execution_count": 144,
      "metadata": {},
      "outputs": [],
      "source": [
        "## read_achieve\n",
        "read_achieve = read_achieve[['ALL_RLA00numvalid_1819', 'ALL_RLA00pctprof_1819', 'ECD_RLA00numvalid_1819', 'ECD_RLA00pctprof_1819']]\n",
        "read_achieve.columns = ['Read Sum Total', 'Read Sum Pct Prof', 'Read ECD Total', 'Read ECD Pct Prof']\n",
        "read_achieve['Read Sum Total'] = pd.to_numeric((read_achieve['Read Sum Total']), errors='coerce')\n",
        "read_achieve['Read ECD Total'] = pd.to_numeric((read_achieve['Read ECD Total']), errors='coerce')\n",
        "read_achieve['Read Pct ECD'] = read_achieve['Read ECD Total'] / read_achieve['Read Sum Total'] * 100\n",
        "read_achieve['Read Pct ECD'] = read_achieve['Read Pct ECD'].round(0)"
      ]
    },
    {
      "cell_type": "code",
      "execution_count": 145,
      "metadata": {},
      "outputs": [],
      "source": [
        "## combining achieve data\n",
        "achievement = pd.merge(math_achieve, read_achieve, how='outer', on=['STNAM', 'LEANM'])\n",
        "achievement.to_csv(\"Data/achievement.csv\")"
      ]
    },
    {
      "cell_type": "markdown",
      "metadata": {},
      "source": [
        "## Combining Dataframes into a Singular Dataframe"
      ]
    },
    {
      "cell_type": "code",
      "execution_count": 146,
      "metadata": {},
      "outputs": [
        {
          "data": {
            "text/plain": [
              "'\\nachievement = pd.merge(math_achieve, math_part, how=\\'outer\\', on=[\\'STNAM\\', \\'LEANM\\'])\\nachievement = pd.merge(achievement, read_achieve, how=\\'outer\\', on=[\\'STNAM\\', \\'LEANM\\'])\\nachievement = pd.merge(achievement, read_part, how=\\'outer\\', on=[\\'STNAM\\', \\'LEANM\\'])\\nachievement = pd.merge(achievement, grad_rate, how=\\'outer\\', on=[\\'STNAM\\', \\'LEANM\\'])\\nachievement.to_csv(\"Data/achievement.csv\")\\nachievement.info\\n'"
            ]
          },
          "execution_count": 146,
          "metadata": {},
          "output_type": "execute_result"
        }
      ],
      "source": [
        "'''\n",
        "achievement = pd.merge(math_achieve, math_part, how='outer', on=['STNAM', 'LEANM'])\n",
        "achievement = pd.merge(achievement, read_achieve, how='outer', on=['STNAM', 'LEANM'])\n",
        "achievement = pd.merge(achievement, read_part, how='outer', on=['STNAM', 'LEANM'])\n",
        "achievement = pd.merge(achievement, grad_rate, how='outer', on=['STNAM', 'LEANM'])\n",
        "achievement.to_csv(\"Data/achievement.csv\")\n",
        "achievement.info\n",
        "'''"
      ]
    },
    {
      "cell_type": "markdown",
      "metadata": {
        "id": "-AP1Cq5jrUOb"
      },
      "source": [
        "## SAIPE School District Estimates for 2020\n",
        "\n",
        "Documentation is available:\n",
        "\n",
        "https://www2.census.gov/programs-surveys/saipe/technical-documentation/file-layouts/school-district/2020-district-layout.txt"
      ]
    },
    {
      "cell_type": "code",
      "execution_count": 147,
      "metadata": {
        "id": "zFCTNJlor1Iz"
      },
      "outputs": [
        {
          "data": {
            "text/plain": [
              "<bound method DataFrame.info of                                                        State FIPS Code  \\\n",
              "State Postal Code Name                                                   \n",
              "AL                Alabaster City School District                   1.0   \n",
              "                  Albertville City School District                 1.0   \n",
              "                  Alexander City City School District              1.0   \n",
              "                  Andalusia City School District                   1.0   \n",
              "                  Anniston City School District                    1.0   \n",
              "...                                                                ...   \n",
              "WY                Weston County School District 7                 56.0   \n",
              "PR                Puerto Rico                                     72.0   \n",
              "NaN               NaN                                              NaN   \n",
              "                  NaN                                              NaN   \n",
              "                  NaN                                              NaN   \n",
              "\n",
              "                                                       District ID  \\\n",
              "State Postal Code Name                                               \n",
              "AL                Alabaster City School District             190.0   \n",
              "                  Albertville City School District             5.0   \n",
              "                  Alexander City City School District         30.0   \n",
              "                  Andalusia City School District              60.0   \n",
              "                  Anniston City School District               90.0   \n",
              "...                                                            ...   \n",
              "WY                Weston County School District 7           6090.0   \n",
              "PR                Puerto Rico                                 30.0   \n",
              "NaN               NaN                                          NaN   \n",
              "                  NaN                                          NaN   \n",
              "                  NaN                                          NaN   \n",
              "\n",
              "                                                      Estimated Total Population  \\\n",
              "State Postal Code Name                                                             \n",
              "AL                Alabaster City School District                          35,268   \n",
              "                  Albertville City School District                        22,120   \n",
              "                  Alexander City City School District                     16,819   \n",
              "                  Andalusia City School District                           8,818   \n",
              "                  Anniston City School District                           22,017   \n",
              "...                                                                          ...   \n",
              "WY                Weston County School District 7                          1,423   \n",
              "PR                Puerto Rico                                          3,193,694   \n",
              "NaN               NaN                                                        NaN   \n",
              "                  NaN                                                        NaN   \n",
              "                  NaN                                                        NaN   \n",
              "\n",
              "                                                      Estimated Population 5-17  \\\n",
              "State Postal Code Name                                                            \n",
              "AL                Alabaster City School District                          6,797   \n",
              "                  Albertville City School District                        4,163   \n",
              "                  Alexander City City School District                     2,579   \n",
              "                  Andalusia City School District                          1,471   \n",
              "                  Anniston City School District                           3,053   \n",
              "...                                                                         ...   \n",
              "WY                Weston County School District 7                           243   \n",
              "PR                Puerto Rico                                           455,249   \n",
              "NaN               NaN                                                       NaN   \n",
              "                  NaN                                                       NaN   \n",
              "                  NaN                                                       NaN   \n",
              "\n",
              "                                                      Estimated number of relevant children 5 to 17 years old in poverty who are related to the householder  \n",
              "State Postal Code Name                                                                                                                                       \n",
              "AL                Alabaster City School District                                                     669                                                     \n",
              "                  Albertville City School District                                                   918                                                     \n",
              "                  Alexander City City School District                                                700                                                     \n",
              "                  Andalusia City School District                                                     346                                                     \n",
              "                  Anniston City School District                                                      735                                                     \n",
              "...                                                                                                  ...                                                     \n",
              "WY                Weston County School District 7                                                     25                                                     \n",
              "PR                Puerto Rico                                                                    248,608                                                     \n",
              "NaN               NaN                                                                                NaN                                                     \n",
              "                  NaN                                                                                NaN                                                     \n",
              "                  NaN                                                                                NaN                                                     \n",
              "\n",
              "[13176 rows x 5 columns]>"
            ]
          },
          "execution_count": 147,
          "metadata": {},
          "output_type": "execute_result"
        }
      ],
      "source": [
        "poverty_df = pd.read_csv(\"Data/poverty.csv\", index_col=['State Postal Code', 'Name'])\n",
        "poverty_df.info"
      ]
    }
  ],
  "metadata": {
    "colab": {
      "authorship_tag": "ABX9TyPQVCIfPRQ+VBVGeLKL5yKm",
      "collapsed_sections": [],
      "include_colab_link": true,
      "name": "Data Analysis by District.ipynb",
      "provenance": []
    },
    "kernelspec": {
      "display_name": "Python 3.8.5 64-bit",
      "language": "python",
      "name": "python3"
    },
    "language_info": {
      "codemirror_mode": {
        "name": "ipython",
        "version": 3
      },
      "file_extension": ".py",
      "mimetype": "text/x-python",
      "name": "python",
      "nbconvert_exporter": "python",
      "pygments_lexer": "ipython3",
      "version": "3.8.5"
    },
    "vscode": {
      "interpreter": {
        "hash": "04df2fc89c3acf1590ec283bc773a984e14c9f1da4239c4736f43045e51d23a3"
      }
    }
  },
  "nbformat": 4,
  "nbformat_minor": 0
}

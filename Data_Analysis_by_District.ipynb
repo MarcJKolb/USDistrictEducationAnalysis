{
  "nbformat": 4,
  "nbformat_minor": 0,
  "metadata": {
    "colab": {
      "name": "Data Analysis by District.ipynb",
      "provenance": [],
      "authorship_tag": "ABX9TyNWMNsX4+c7+5SgMqejjxWO"
    },
    "kernelspec": {
      "name": "python3",
      "display_name": "Python 3"
    },
    "language_info": {
      "name": "python"
    }
  },
  "cells": [
    {
      "cell_type": "code",
      "execution_count": null,
      "metadata": {
        "id": "ocJsm08xJYru"
      },
      "outputs": [],
      "source": [
        ""
      ]
    }
  ]
}
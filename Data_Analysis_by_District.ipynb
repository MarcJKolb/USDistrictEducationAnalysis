{
  "nbformat": 4,
  "nbformat_minor": 0,
  "metadata": {
    "colab": {
      "name": "Data Analysis by District.ipynb",
      "provenance": [],
      "collapsed_sections": [],
      "authorship_tag": "ABX9TyPQVCIfPRQ+VBVGeLKL5yKm",
      "include_colab_link": true
    },
    "kernelspec": {
      "name": "python3",
      "display_name": "Python 3"
    },
    "language_info": {
      "name": "python"
    }
  },
  "cells": [
    {
      "cell_type": "markdown",
      "metadata": {
        "id": "view-in-github",
        "colab_type": "text"
      },
      "source": [
        "<a href=\"https://colab.research.google.com/github/MarcJKolb/USDistrictEducationAnalysis/blob/main/Data_Analysis_by_District.ipynb\" target=\"_parent\"><img src=\"https://colab.research.google.com/assets/colab-badge.svg\" alt=\"Open In Colab\"/></a>"
      ]
    },
    {
      "cell_type": "code",
      "execution_count": null,
      "metadata": {
        "id": "ocJsm08xJYru"
      },
      "outputs": [],
      "source": [
        "import pandas as pd\n",
        "import numpy as np\n"
      ]
    },
    {
      "cell_type": "markdown",
      "source": [
        "## The following data is sourced from the US Department of Education.\n",
        "\n",
        "Documentation is available:\n",
        "\n",
        "https://www2.ed.gov/about/inits/ed/edfacts/data-files/assessments-sy2018-19-public-file-documentation.docx"
      ],
      "metadata": {
        "id": "fJd3zTasq_sm"
      }
    },
    {
      "cell_type": "code",
      "source": [
        "math_df = pd.read_csv(\"https://www2.ed.gov/about/inits/ed/edfacts/data-files/math-achievement-lea-sy2018-19-wide.csv\", index_col=['STNAM', 'LEANM'])\n",
        "read_df = pd.read_csv(\"https://www2.ed.gov/about/inits/ed/edfacts/data-files/rla-achievement-lea-sy2018-19-wide.csv\", index_col=['STNAM', 'LEANM'])\n",
        "graduation_df = pd.read_csv(\"https://www2.ed.gov/about/inits/ed/edfacts/data-files/acgr-lea-sy2018-19-wide.csv\", index_col=['STNAM', 'LEANM'])\n",
        "math_participation_df = pd.read_csv(\"https://www2.ed.gov/about/inits/ed/edfacts/data-files/math-participation-lea-sy2018-19-wide.csv\", index_col=['STNAM', 'LEANM'])\n",
        "read_participation_df = pd.read_csv(\"https://www2.ed.gov/about/inits/ed/edfacts/data-files/rla-participation-lea-sy2018-19-wide.csv\", index_col=['STNAM', 'LEANM'])"
      ],
      "metadata": {
        "id": "wgQZaE_gq7Bt"
      },
      "execution_count": null,
      "outputs": []
    },
    {
      "cell_type": "markdown",
      "source": [
        "## SAIPE School District Estimates for 2020\n",
        "\n",
        "Documentation is available:\n",
        "\n",
        "https://www2.census.gov/programs-surveys/saipe/technical-documentation/file-layouts/school-district/2020-district-layout.txt"
      ],
      "metadata": {
        "id": "-AP1Cq5jrUOb"
      }
    },
    {
      "cell_type": "code",
      "source": [
        "poverty_df = pd.read_excel(\"https://www2.census.gov/programs-surveys/saipe/datasets/2020/2020-school-districts/ussd20.xls\")\n",
        "poverty_df.head()"
      ],
      "metadata": {
        "id": "zFCTNJlor1Iz"
      },
      "execution_count": null,
      "outputs": []
    }
  ]
}
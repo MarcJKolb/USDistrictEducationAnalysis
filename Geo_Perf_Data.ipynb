{
 "cells": [
  {
   "cell_type": "markdown",
   "metadata": {},
   "source": [
    "# Importing 2010 Urban Centers Census Data / Wikipedia Table\n",
    "## Making the Data Usable"
   ]
  },
  {
   "cell_type": "code",
   "execution_count": 197,
   "metadata": {},
   "outputs": [
    {
     "name": "stderr",
     "output_type": "stream",
     "text": [
      "C:\\Users\\marcj\\AppData\\Local\\Temp\\ipykernel_9596\\3958238827.py:11: SettingWithCopyWarning: \n",
      "A value is trying to be set on a copy of a slice from a DataFrame\n",
      "\n",
      "See the caveats in the documentation: https://pandas.pydata.org/pandas-docs/stable/user_guide/indexing.html#returning-a-view-versus-a-copy\n",
      "  city_df['Location'][0] = r\"\"\"40°39′N 73°55′W / 40.66°N 73.93°W\"\"\" # I had to manually input this from the table. I double-checked the rest of the table and this appears to be the only anomaly.\n",
      "C:\\Users\\marcj\\AppData\\Local\\Temp\\ipykernel_9596\\3958238827.py:17: FutureWarning: The default value of regex will change from True to False in a future version.\n",
      "  city_df['City'] = city_df['City'].str.replace(r\"\\[.*\\]\",\"\")\n",
      "C:\\Users\\marcj\\AppData\\Local\\Temp\\ipykernel_9596\\3958238827.py:18: FutureWarning: The default value of regex will change from True to False in a future version.\n",
      "  city_df['State'] = city_df['State'].str.replace(r\"\\[.*\\]\",\"\")\n"
     ]
    }
   ],
   "source": [
    "import pandas as pd\n",
    "import requests\n",
    "from bs4 import BeautifulSoup\n",
    "city_url = 'https://en.wikipedia.org/wiki/List_of_United_States_cities_by_population'\n",
    "table_class = \"wikitable sortable jquery-tablesorter\"\n",
    "response = requests.get(city_url)\n",
    "soup = BeautifulSoup(response.text, 'html.parser')\n",
    "city_table = soup.find('table', {'class': \"wikitable sortable\"})\n",
    "city_df = pd.read_html(str(city_table))\n",
    "city_df = pd.DataFrame(city_df[0])\n",
    "city_df['Location'][0] = r\"\"\"40°39′N 73°55′W / 40.66°N 73.93°W\"\"\" # I had to manually input this from the table. I double-checked the rest of the table and this appears to be the only anomaly.\n",
    "city_df.columns = ['2021 Rank', 'City', 'State', '2021 Estimate', '2020 Census', 'Change', '2020 Land Area in Square Miles', '2020 Land Area in Square Kilometers', '2020 Population Density in Per Square Mile', '2020 Population Density in Per Square Kilometer', 'Location']\n",
    "city_df['2020 Land Area in Square Miles'] = city_df['2020 Land Area in Square Miles'].str.replace(',', '').str.extract('(\\d+\\.?\\d*)').astype(float)\n",
    "city_df['2020 Land Area in Square Kilometers'] = city_df['2020 Land Area in Square Kilometers'].str.replace(',', '').str.extract('(\\d+\\.?\\d*)').astype(float)\n",
    "city_df['2020 Population Density in Per Square Mile'] = city_df['2020 Population Density in Per Square Mile'].str.replace(',', '').str.extract('(\\d+\\.?\\d*)').astype(float)\n",
    "city_df['2020 Population Density in Per Square Kilometer'] = city_df['2020 Population Density in Per Square Kilometer'].str.replace(',', '').str.extract('(\\d+\\.?\\d*)').astype(float)\n",
    "city_df['City'] = city_df['City'].str.replace(r\"\\[.*\\]\",\"\")\n",
    "city_df['State'] = city_df['State'].str.replace(r\"\\[.*\\]\",\"\")\n",
    "city_df['Latitude (North)'] = city_df['Location'].str.split('/').str[1].str.split('°').str[0].str.extract('(\\d+\\.?\\d*)').astype(float)\n",
    "city_df['Longitude (West)'] = city_df['Location'].str.split('/').str[1].str.split('°').str[1].str.extract('(\\d+\\.?\\d*)').astype(float)"
   ]
  },
  {
   "cell_type": "markdown",
   "metadata": {},
   "source": [
    "# State by State Comparisons\n",
    "## From Ballotpedia"
   ]
  },
  {
   "cell_type": "code",
   "execution_count": 198,
   "metadata": {},
   "outputs": [],
   "source": [
    "state_url = 'https://ballotpedia.org/United_States_school_districts'\n",
    "state_response = requests.get(state_url)\n",
    "soup = BeautifulSoup(state_response.text, 'html.parser')\n",
    "state_table = soup.find('table', {'class': \"wikitable sortable\"})\n",
    "state_df = pd.read_html(str(state_table))\n",
    "state_df = pd.DataFrame(state_df[0])\n",
    "state_df['State Superintendent'].isna().sum() # Only Ohio is missing. I will manually add Ohio's superintendant.\n",
    "state_df[state_df['State Superintendent'].isna()] = 'Stephanie K. Siddens'"
   ]
  },
  {
   "cell_type": "code",
   "execution_count": 199,
   "metadata": {},
   "outputs": [],
   "source": [
    "specs_df = city_df.merge(state_df, on = 'State')\n",
    "specs_df.to_csv('specs_df.csv')"
   ]
  }
 ],
 "metadata": {
  "kernelspec": {
   "display_name": "Python 3.9.13 ('Known_Modules')",
   "language": "python",
   "name": "python3"
  },
  "language_info": {
   "codemirror_mode": {
    "name": "ipython",
    "version": 3
   },
   "file_extension": ".py",
   "mimetype": "text/x-python",
   "name": "python",
   "nbconvert_exporter": "python",
   "pygments_lexer": "ipython3",
   "version": "3.9.13"
  },
  "orig_nbformat": 4,
  "vscode": {
   "interpreter": {
    "hash": "323fb517e95185341085c2861c74a9cc388f085efd39958bae7cbd22260d4c40"
   }
  }
 },
 "nbformat": 4,
 "nbformat_minor": 2
}

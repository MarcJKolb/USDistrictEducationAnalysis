{
 "cells": [
  {
   "cell_type": "markdown",
   "metadata": {},
   "source": [
    "# Importing 2010 Urban Centers Census Data / Wikipedia Table\n",
    "## Making the Data Usable"
   ]
  },
  {
   "cell_type": "code",
   "execution_count": 29,
   "metadata": {},
   "outputs": [
    {
     "name": "stderr",
     "output_type": "stream",
     "text": [
      "<ipython-input-29-816729d560d9>:11: SettingWithCopyWarning: \n",
      "A value is trying to be set on a copy of a slice from a DataFrame\n",
      "\n",
      "See the caveats in the documentation: https://pandas.pydata.org/pandas-docs/stable/user_guide/indexing.html#returning-a-view-versus-a-copy\n",
      "  city_df['Location'][0] = r\"\"\"40°39′N 73°55′W / 40.66°N 73.93°W\"\"\" # I had to manually input this from the table. I double-checked the rest of the table and this appears to be the only anomaly.\n",
      "<ipython-input-29-816729d560d9>:17: FutureWarning: The default value of regex will change from True to False in a future version.\n",
      "  city_df['City'] = city_df['City'].str.replace(r\"\\[.*\\]\",\"\")\n",
      "<ipython-input-29-816729d560d9>:18: FutureWarning: The default value of regex will change from True to False in a future version.\n",
      "  city_df['State'] = city_df['State'].str.replace(r\"\\[.*\\]\",\"\")\n"
     ]
    },
    {
     "data": {
      "text/plain": [
       "-2.6477908598259518e-05"
      ]
     },
     "execution_count": 29,
     "metadata": {},
     "output_type": "execute_result"
    }
   ],
   "source": [
    "import pandas as pd\n",
    "import requests\n",
    "from bs4 import BeautifulSoup\n",
    "city_url = 'https://en.wikipedia.org/wiki/List_of_United_States_cities_by_population'\n",
    "table_class = \"wikitable sortable jquery-tablesorter\"\n",
    "response = requests.get(city_url)\n",
    "soup = BeautifulSoup(response.text, 'html.parser')\n",
    "city_table = soup.find('table', {'class': \"wikitable sortable\"})\n",
    "city_df = pd.read_html(str(city_table))\n",
    "city_df = pd.DataFrame(city_df[0])\n",
    "city_df['Location'][0] = r\"\"\"40°39′N 73°55′W / 40.66°N 73.93°W\"\"\" # I had to manually input this from the table. I double-checked the rest of the table and this appears to be the only anomaly.\n",
    "city_df.columns = ['2021 Rank', 'City', 'State', '2021 Estimate', '2020 Census', 'Change', '2020 Land Area in Square Miles', '2020 Land Area in Square Kilometers', '2020 Population Density in Per Square Mile', '2020 Population Density in Per Square Kilometer', 'Location']\n",
    "city_df['2020 Land Area in Square Miles'] = city_df['2020 Land Area in Square Miles'].str.replace(',', '').str.extract('(\\d+\\.?\\d*)').astype(float)\n",
    "city_df['2020 Land Area in Square Kilometers'] = city_df['2020 Land Area in Square Kilometers'].str.replace(',', '').str.extract('(\\d+\\.?\\d*)').astype(float)\n",
    "city_df['2020 Population Density in Per Square Mile'] = city_df['2020 Population Density in Per Square Mile'].str.replace(',', '').str.extract('(\\d+\\.?\\d*)').astype(float)\n",
    "city_df['2020 Population Density in Per Square Kilometer'] = city_df['2020 Population Density in Per Square Kilometer'].str.replace(',', '').str.extract('(\\d+\\.?\\d*)').astype(float)\n",
    "city_df['City'] = city_df['City'].str.replace(r\"\\[.*\\]\",\"\")\n",
    "city_df['State'] = city_df['State'].str.replace(r\"\\[.*\\]\",\"\")\n",
    "city_df['Latitude (North)'] = city_df['Location'].str.split('/').str[1].str.split('°').str[0].str.extract('(\\d+\\.?\\d*)').astype(float)\n",
    "city_df['Longitude (West)'] = city_df['Location'].str.split('/').str[1].str.split('°').str[1].str.extract('(\\d+\\.?\\d*)').astype(float)\n",
    "city_df[city_df['Change'].isna()] # Richmond (97) and Santa Maria (281) are missing the change value.\n",
    "for v in city_df[city_df['Change'].isna()]:\n",
    "    city_df['Change'] = city_df[city_df['Change'].isna()] = (city_df['2021 Estimate'] - city_df['2020 Census']) / city_df['2021 Estimate']"
   ]
  },
  {
   "cell_type": "markdown",
   "metadata": {},
   "source": [
    "# State by State Comparisons\n",
    "## From Ballotpedia"
   ]
  },
  {
   "cell_type": "code",
   "execution_count": 30,
   "metadata": {},
   "outputs": [],
   "source": [
    "state_url = 'https://ballotpedia.org/United_States_school_districts'\n",
    "state_response = requests.get(state_url)\n",
    "soup = BeautifulSoup(state_response.text, 'html.parser')\n",
    "state_table = soup.find('table', {'class': \"wikitable sortable\"})\n",
    "state_df = pd.read_html(str(state_table))\n",
    "state_df = pd.DataFrame(state_df[0])\n",
    "state_df['State Superintendent'].isna().sum() # Only Ohio is missing. I will manually add Ohio's superintendant.\n",
    "state_df[state_df['State Superintendent'].isna()] = 'Stephanie K. Siddens'"
   ]
  },
  {
   "cell_type": "markdown",
   "metadata": {},
   "source": [
    "# Merging the two Dataframes."
   ]
  },
  {
   "cell_type": "code",
   "execution_count": 31,
   "metadata": {},
   "outputs": [],
   "source": [
    "specs_df = city_df.merge(state_df, on = 'State')\n",
    "specs_df.to_csv('specs_df.csv')"
   ]
  },
  {
   "cell_type": "markdown",
   "metadata": {},
   "source": [
    "# Adding new data."
   ]
  },
  {
   "cell_type": "code",
   "execution_count": null,
   "metadata": {},
   "outputs": [],
   "source": []
  }
 ],
 "metadata": {
  "kernelspec": {
   "display_name": "Python 3.9.13 ('KPack')",
   "language": "python",
   "name": "python3"
  },
  "language_info": {
   "codemirror_mode": {
    "name": "ipython",
    "version": 3
   },
   "file_extension": ".py",
   "mimetype": "text/x-python",
   "name": "python",
   "nbconvert_exporter": "python",
   "pygments_lexer": "ipython3",
   "version": "3.9.13"
  },
  "orig_nbformat": 4,
  "vscode": {
   "interpreter": {
    "hash": "135c527a1ea58b5c5187b11543454cbb961f22858d40700a17379ecd75696a33"
   }
  }
 },
 "nbformat": 4,
 "nbformat_minor": 2
}
